{
 "cells": [
  {
   "cell_type": "code",
   "execution_count": 5,
   "metadata": {},
   "outputs": [],
   "source": [
    "\n",
    "from langchain.llms import Ollama"
   ]
  },
  {
   "cell_type": "code",
   "execution_count": 6,
   "metadata": {},
   "outputs": [
    {
     "name": "stderr",
     "output_type": "stream",
     "text": [
      "C:\\Users\\vivek\\AppData\\Local\\Temp\\ipykernel_34448\\3116929097.py:1: LangChainDeprecationWarning: The class `Ollama` was deprecated in LangChain 0.3.1 and will be removed in 1.0.0. An updated version of the class exists in the :class:`~langchain-ollama package and should be used instead. To use it run `pip install -U :class:`~langchain-ollama` and import as `from :class:`~langchain_ollama import OllamaLLM``.\n",
      "  model=Ollama(model='crewai-gemma2')\n"
     ]
    }
   ],
   "source": [
    "model=Ollama(model='crewai-gemma2')"
   ]
  },
  {
   "cell_type": "code",
   "execution_count": 8,
   "metadata": {},
   "outputs": [
    {
     "data": {
      "text/plain": [
       "'The symbol `ai` is a shorthand for \"artificial intelligence\". It is a broad field of study that encompasses the development of computer systems that can perform tasks that typically require human intelligence, such as learning, problem-solving, and decision-making.'"
      ]
     },
     "execution_count": 8,
     "metadata": {},
     "output_type": "execute_result"
    }
   ],
   "source": [
    "model.invoke('what is ai')"
   ]
  },
  {
   "cell_type": "code",
   "execution_count": 1,
   "metadata": {},
   "outputs": [],
   "source": [
    "import litellm\n",
    "\n",
    "try:\n",
    "    response = litellm.completion(\n",
    "        model=\"ollama/crewai-gemma2\",\n",
    "        api_base=\"http://localhost:11434\",\n",
    "        provider=\"Ollama\"\n",
    "    )\n",
    "except litellm.exceptions.BadRequestError as e:\n",
    "    print(\"Bad Request Error: Check your model parameters or API setup.\")\n",
    "    print(f\"Details: {e}\")\n",
    "except litellm.exceptions.LLMProviderError as e:\n",
    "    print(\"LLM Provider Error: There is an issue with the provider configuration.\")\n",
    "    print(f\"Details: {e}\")\n",
    "    "
   ]
  },
  {
   "cell_type": "code",
   "execution_count": null,
   "metadata": {},
   "outputs": [],
   "source": []
  }
 ],
 "metadata": {
  "kernelspec": {
   "display_name": "Python 3",
   "language": "python",
   "name": "python3"
  },
  "language_info": {
   "codemirror_mode": {
    "name": "ipython",
    "version": 3
   },
   "file_extension": ".py",
   "mimetype": "text/x-python",
   "name": "python",
   "nbconvert_exporter": "python",
   "pygments_lexer": "ipython3",
   "version": "3.10.0"
  }
 },
 "nbformat": 4,
 "nbformat_minor": 2
}
